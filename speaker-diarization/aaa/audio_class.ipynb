{
  "nbformat": 4,
  "nbformat_minor": 0,
  "metadata": {
    "colab": {
      "provenance": []
    },
    "kernelspec": {
      "name": "python3",
      "display_name": "Python 3"
    },
    "language_info": {
      "name": "python"
    }
  },
  "cells": [
    {
      "cell_type": "code",
      "execution_count": 7,
      "metadata": {
        "colab": {
          "base_uri": "https://localhost:8080/"
        },
        "id": "m7Ct5x5vjFYG",
        "outputId": "87ab6e2c-cc46-47e2-bcab-77c842ffca0f"
      },
      "outputs": [
        {
          "output_type": "stream",
          "name": "stdout",
          "text": [
            "Cloning into '/tmp/script'...\n",
            "remote: Enumerating objects: 163, done.\u001b[K\n",
            "remote: Counting objects: 100% (163/163), done.\u001b[K\n",
            "remote: Compressing objects: 100% (147/147), done.\u001b[K\n",
            "remote: Total 163 (delta 25), reused 99 (delta 10), pack-reused 0 (from 0)\u001b[K\n",
            "Receiving objects: 100% (163/163), 388.54 KiB | 7.19 MiB/s, done.\n",
            "Resolving deltas: 100% (25/25), done.\n"
          ]
        }
      ],
      "source": [
        "!rm -rf /tmp/script\n",
        "!git clone --depth 1 https://github.com/cellargalaxy/script /tmp/script\n",
        "!rm -rf ./*\n",
        "!mv /tmp/script/speaker-diarization/aaa/* ."
      ]
    },
    {
      "cell_type": "code",
      "source": [
        "!pip install -r requirements.txt"
      ],
      "metadata": {
        "id": "pnsOZw09mtPX"
      },
      "execution_count": null,
      "outputs": []
    },
    {
      "cell_type": "code",
      "source": [
        "import util\n",
        "import pre_treatment\n",
        "import noise_reduction_demucs\n",
        "import audio_split_silero_vad\n",
        "import audio_class_pyannote\n",
        "import purification_speechbrain\n",
        "\n",
        "logger = util.get_logger()\n",
        "\n",
        "manager = {\n",
        "    \"video_path\": \"../demo.mkv\",\n",
        "    \"audio_track_index\": 0,\n",
        "    \"auth_token\": \"\",\n",
        "\n",
        "    # \"output_dir\": \"output/demo\",\n",
        "    # \"audio_path\": 'output/demo/extract_audio/wav.wav',\n",
        "    # \"noise_reduction_audio_path\": 'output/demo/noise_reduction/htdemucs/wav/vocals.wav',\n",
        "    # \"audio_combine_wav_path\": \"output/demo/audio_split/combine.wav\",\n",
        "    # \"audio_combine_json_path\": \"output/demo/audio_split/combine.json\",\n",
        "    # \"audio_segment_dir\": \"output/demo/audio_split/segment\",\n",
        "    # \"audio_class_dir\": \"output/demo/audio_class\",\n",
        "    # \"audio_purification_dir\": \"output/demo/audio_purification\",\n",
        "}\n",
        "\n",
        "util.print_device_info()\n",
        "pre_treatment.init_by_manager(manager)\n",
        "\n",
        "pre_treatment.extract_audio_by_manager(manager)\n",
        "noise_reduction_demucs.noise_reduction_by_manager(manager)\n",
        "audio_split_silero_vad.split_video_by_manager(manager)\n",
        "audio_class_pyannote.audio_class_by_manager(manager)\n",
        "purification_speechbrain.audio_purification_by_manager(manager)\n",
        "\n"
      ],
      "metadata": {
        "id": "NYPxjzWrmXhg"
      },
      "execution_count": null,
      "outputs": []
    }
  ]
}