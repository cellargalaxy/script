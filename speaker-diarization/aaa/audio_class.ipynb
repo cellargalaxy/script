import util
import pre_treatment
import noise_reduction_demucs
import audio_split_silero_vad
import audio_class_pyannote
import purification_speechbrain

logger = util.get_logger()

manager = {
    "video_path": "../demo.mkv",
    "audio_track_index": 0,
    "auth_token": "",
}

util.print_device_info()
pre_treatment.init_by_manager(manager)

pre_treatment.extract_audio_by_manager(manager)
noise_reduction_demucs.noise_reduction_by_manager(manager)
audio_split_silero_vad.split_video_by_manager(manager)
audio_class_pyannote.audio_class_by_manager(manager)
purification_speechbrain.audio_purification_by_manager(manager)

