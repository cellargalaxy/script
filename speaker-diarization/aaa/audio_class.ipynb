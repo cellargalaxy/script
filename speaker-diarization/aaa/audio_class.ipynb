{
  "nbformat": 4,
  "nbformat_minor": 0,
  "metadata": {
    "colab": {
      "provenance": []
    },
    "kernelspec": {
      "name": "python3",
      "display_name": "Python 3"
    },
    "language_info": {
      "name": "python"
    }
  },
  "cells": [
    {
      "cell_type": "code",
      "execution_count": null,
      "metadata": {
        "id": "m7Ct5x5vjFYG"
      },
      "outputs": [],
      "source": [
        "import util\n",
        "import pre_treatment\n",
        "import noise_reduction_demucs\n",
        "import audio_split_silero_vad\n",
        "import audio_class_pyannote\n",
        "import purification_speechbrain\n",
        "\n",
        "logger = util.get_logger()\n",
        "\n",
        "manager = {\n",
        "    \"video_path\": \"../demo.mkv\",\n",
        "    \"audio_track_index\": 0,\n",
        "    \"auth_token\": \"\",\n",
        "\n",
        "    # \"output_dir\": \"output/demo\",\n",
        "    # \"audio_path\": 'output/demo/extract_audio/wav.wav',\n",
        "    # \"noise_reduction_audio_path\": 'output/demo/noise_reduction/htdemucs/wav/vocals.wav',\n",
        "    # \"audio_combine_wav_path\": \"output/demo/audio_split/combine.wav\",\n",
        "    # \"audio_combine_json_path\": \"output/demo/audio_split/combine.json\",\n",
        "    # \"audio_segment_dir\": \"output/demo/audio_split/segment\",\n",
        "    # \"audio_class_dir\": \"output/demo/audio_class\",\n",
        "    # \"audio_purification_dir\": \"output/demo/audio_purification\",\n",
        "}\n",
        "\n",
        "util.print_device_info()\n",
        "pre_treatment.init_by_manager(manager)\n",
        "\n",
        "pre_treatment.extract_audio_by_manager(manager)\n",
        "noise_reduction_demucs.noise_reduction_by_manager(manager)\n",
        "audio_split_silero_vad.split_video_by_manager(manager)\n",
        "audio_class_pyannote.audio_class_by_manager(manager)\n",
        "purification_speechbrain.audio_purification_by_manager(manager)\n",
        "\n"
      ]
    }
  ]
}