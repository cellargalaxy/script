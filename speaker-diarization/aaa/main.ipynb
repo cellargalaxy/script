{
  "nbformat": 4,
  "nbformat_minor": 0,
  "metadata": {
    "colab": {
      "provenance": [],
      "gpuType": "T4"
    },
    "kernelspec": {
      "name": "python3",
      "display_name": "Python 3"
    },
    "language_info": {
      "name": "python"
    },
    "accelerator": "GPU"
  },
  "cells": [
    {
      "cell_type": "code",
      "execution_count": null,
      "metadata": {
        "collapsed": true,
        "id": "m7Ct5x5vjFYG"
      },
      "outputs": [],
      "source": [
        "!rm -rf /tmp/script\n",
        "!git clone --depth 1 https://github.com/cellargalaxy/script /tmp/script\n",
        "!rm -rf ./* !(video|bin|model|output)\n",
        "!mv /tmp/script/speaker-diarization/aaa/* ."
      ]
    },
    {
      "cell_type": "code",
      "source": [
        "!pip install pyannote.audio\n",
        "!pip install pydub\n",
        "!pip install demucs\n",
        "!pip install speechbrain\n",
        "!pip install whisperx\n",
        "!pip install pysubs2\n",
        "!pip install inputimeout\n",
        "!pip install GPUtil"
      ],
      "metadata": {
        "collapsed": true,
        "id": "pnsOZw09mtPX"
      },
      "execution_count": null,
      "outputs": []
    },
    {
      "cell_type": "code",
      "source": [
        "import util\n",
        "import pre_treatment\n",
        "import noise_reduction_demucs\n",
        "import audio_split_silero_vad\n",
        "import audio_class_pyannote\n",
        "import purification_speechbrain\n",
        "\n",
        "logger = util.get_logger()\n",
        "\n",
        "manager = {\n",
        "    \"video_path\": \"video/demo.mkv\",\n",
        "    \"audio_track_index\": 1,\n",
        "    \"auth_token\": \"\",\n",
        "\n",
        "    # \"output_dir\": \"output/demo\",\n",
        "    # \"audio_path\": 'output/demo/extract_audio/wav.wav',\n",
        "    # \"noise_reduction_audio_path\": 'output/demo/noise_reduction/htdemucs/wav/vocals.wav',\n",
        "    # \"audio_combine_wav_path\": \"output/demo/audio_split/combine.wav\",\n",
        "    # \"audio_combine_json_path\": \"output/demo/audio_split/combine.json\",\n",
        "    # \"audio_segment_dir\": \"output/demo/audio_split/segment\",\n",
        "    # \"audio_class_dir\": \"output/demo/audio_class\",\n",
        "    # \"audio_purification_dir\": \"output/demo/audio_purification\",\n",
        "}\n",
        "\n",
        "util.print_device_info()\n",
        "pre_treatment.init_by_manager(manager)\n",
        "\n",
        "pre_treatment.extract_audio_by_manager(manager)\n",
        "noise_reduction_demucs.noise_reduction_by_manager(manager)\n",
        "audio_split_silero_vad.split_video_by_manager(manager)\n",
        "audio_class_pyannote.audio_class_by_manager(manager)\n",
        "purification_speechbrain.audio_purification_by_manager(manager)\n",
        "\n"
      ],
      "metadata": {
        "id": "NYPxjzWrmXhg"
      },
      "execution_count": null,
      "outputs": []
    }
  ]
}