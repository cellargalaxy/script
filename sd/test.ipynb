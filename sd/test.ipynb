{
 "cells": [
  {
   "metadata": {},
   "cell_type": "code",
   "outputs": [],
   "execution_count": null,
   "source": [
    "from google.colab import drive\n",
    "import base64\n",
    "import os\n",
    "import shutil\n",
    "\n",
    "if not os.path.exists(\"/content/gdrive\"):\n",
    "    drive.mount('/content/gdrive')\n",
    "\n",
    "!mkdir -p /content/gdrive/MyDrive/sd\n",
    "%cd /content/gdrive/MyDrive/sd\n",
    "if not os.path.exists(\"/content/gdrive/MyDrive/sd/web\"):\n",
    "    huanxiao1 = base64.b64decode((\"T01BVElDMQ==\").encode('ascii')).decode('ascii')\n",
    "    huanxiao2 = base64.b64decode((\"YWJsZS1kaWY=\").encode('ascii')).decode('ascii')\n",
    "    huanxiao3 = base64.b64decode((\"aW9uLXdlYnU=\").encode('ascii')).decode('ascii')\n",
    "    # ! echo 'https://github.com/AUT'$huanxiao1'111/st'$huanxiao2'fus'$huanxiao3'i'\n",
    "    !git clone --depth 1 'https://github.com/AUT'$huanxiao1'111/st'$huanxiao2'fus'$huanxiao3'i' web\n",
    "!mkdir -p /content/gdrive/MyDrive/sd/web/cache\n",
    "os.environ['TRANSFORMERS_CACHE'] = f\"/content/gdrive/MyDrive/sd/web/cache\"\n",
    "os.environ['TORCH_HOME'] = f\"/content/gdrive/MyDrive/sd/web/cache\"\n",
    "!mkdir -p /content/gdrive/MyDrive/sd/web/repositories\n",
    "!git clone 'https://github.com/AUT'$huanxiao1'111/st'$huanxiao2'fus'$huanxiao3'i-assets' /content/gdrive/MyDrive/sd/web/repositories/stable-diffusion-webui-assets\n",
    "!git clone https://github.com/Stability-AI/stablediffusion /content/gdrive/MyDrive/sd/web/repositories/stable-diffusion-stability-ai"
   ]
  },
  {
   "metadata": {},
   "cell_type": "code",
   "outputs": [],
   "execution_count": null,
   "source": [
    "# !rm -rf /content/gdrive/MyDrive/sd/web\n",
    "# !rm -rf /content/embeddings\n",
    "# !rm -rf /content/models"
   ]
  },
  {
   "metadata": {},
   "cell_type": "code",
   "outputs": [],
   "execution_count": null,
   "source": [
    "%cd /content/gdrive/MyDrive/sd/web/localizations\n",
    "if not os.path.exists(\"/content/gdrive/MyDrive/sd/web/localizations/I18N_sd-webui-zh_CN.json\"):\n",
    "    !wget -N https://gist.githubusercontent.com/journey-ad/d98ed173321658be6e51f752d6e6163c/raw/aa162c81d9d7d7b6efdffa84ccbfe867be6b711d/I18N_sd-webui-zh_CN.json\n",
    "\n",
    "huanxiao4 = base64.b64decode((\"ZC13ZWJ1\").encode('ascii')).decode('ascii')\n",
    "huanxiao5 = base64.b64decode((\"ZC1leHRlbnM=\").encode('ascii')).decode('ascii')\n",
    "huanxiao6 = base64.b64decode((\"YWJsZS1EaWZmdXNpb24tV2U=\").encode('ascii')).decode('ascii')\n",
    "\n",
    "%cd /content/gdrive/MyDrive/sd/web/extensions\n",
    "if not os.path.exists(\"/content/gdrive/MyDrive/sd/web/extensions/s\" + huanxiao4 + \"i-bilingual-localization\"):\n",
    "    !git clone --depth 1 'https://github.com/journey-ad/s'$huanxiao4'i-bilingual-localization'\n",
    "if not os.path.exists(\"/content/gdrive/MyDrive/sd/web/extensions/s\" + huanxiao4 + \"i-prompt-all-in-one\"):\n",
    "    !git clone --depth 1 'https://github.com/Physton/s'$huanxiao4'i-prompt-all-in-one'\n",
    "if not os.path.exists(\"/content/gdrive/MyDrive/sd/web/extensions/s\" + huanxiao5 + \"ion-system-info\"):\n",
    "    !git clone --depth 1 'https://github.com/vladmandic/s'$huanxiao5'ion-system-info'\n",
    "if not os.path.exists(\"/content/gdrive/MyDrive/sd/web/extensions/s\" + huanxiao4 + \"i-infinite-image-browsing\"):\n",
    "    !git clone --depth 1 'https://github.com/zanllp/s'$huanxiao4'i-infinite-image-browsing'\n",
    "if not os.path.exists(\"/content/gdrive/MyDrive/sd/web/extensions/s\" + huanxiao4 + \"i-agent-scheduler\"):\n",
    "    !git clone --depth 1 'https://github.com/ArtVentureX/s'$huanxiao4'i-agent-scheduler'\n",
    "if not os.path.exists(\"/content/gdrive/MyDrive/sd/web/extensions/s\" + huanxiao4 + \"i-controlnet\"):\n",
    "    !git clone --depth 1 'https://github.com/Mikubill/s'$huanxiao4'i-controlnet'\n",
    "if not os.path.exists(\"/content/gdrive/MyDrive/sd/web/extensions/St\" + huanxiao6 + \"bui-Civitai-Helper\"):\n",
    "    !git clone --depth 1 'https://github.com/butaixianran/St'$huanxiao6'bui-Civitai-Helper'"
   ]
  },
  {
   "metadata": {},
   "cell_type": "code",
   "outputs": [],
   "execution_count": null,
   "source": [
    "!mkdir -p /content/embeddings\n",
    "!rm -rf /content/gdrive/MyDrive/sd/web/embeddings\n",
    "!ln -s /content/embeddings /content/gdrive/MyDrive/sd/web\n",
    "%cd /content/embeddings\n",
    "if not os.path.exists(\"/content/embeddings/EasyNegative.safetensors\"):\n",
    "    !wget -N https://huggingface.co/datasets/gsdf/EasyNegative/resolve/main/EasyNegative.safetensors?download=true -O EasyNegative.safetensors\n",
    "if not os.path.exists(\"/content/embeddings/EasyNegativeV2.safetensors\"):\n",
    "    !wget -N https://huggingface.co/gsdf/Counterfeit-V3.0/resolve/main/embedding/EasyNegativeV2.safetensors?download=true -O EasyNegativeV2.safetensors"
   ]
  },
  {
   "metadata": {},
   "cell_type": "code",
   "outputs": [],
   "execution_count": null,
   "source": [
    "!mkdir -p /content/models\n",
    "!rm -rf /content/gdrive/MyDrive/sd/web/models\n",
    "!ln -s /content/models /content/gdrive/MyDrive/sd/web"
   ]
  },
  {
   "metadata": {},
   "cell_type": "code",
   "outputs": [],
   "execution_count": null,
   "source": [
    "# import time\n",
    "# import re\n",
    "# import sys\n",
    "# \n",
    "# !wget -q https://github.com/cloudflare/cloudflared/releases/latest/download/cloudflared-linux-amd64.deb && dpkg -i cloudflared-linux-amd64.deb\n",
    "# !pkill cloudflared\n",
    "# time.sleep(4)\n",
    "# !nohup cloudflared tunnel --url http://localhost:7860 > /content/srv.txt 2>&1 &\n",
    "# time.sleep(4)\n",
    "# with open('/content/srv.txt', \"r\") as file: text = file.read()\n",
    "# srv = re.findall(r\"https?://(?:\\S+?\\.)?trycloudflare\\.com\\S*\", text)\n",
    "# sys.stdout.write(\"url: {}\".format(srv))\n",
    "# !rm /content/srv.txt"
   ]
  },
  {
   "metadata": {},
   "cell_type": "code",
   "outputs": [],
   "execution_count": null,
   "source": [
    "%cd /content\n",
    "!wget -q -i https://raw.githubusercontent.com/TheLastBen/fast-stable-diffusion/main/Dependencies/A1111.txt\n",
    "!dpkg -i *.deb\n",
    "if not os.path.exists('/content/gdrive/MyDrive/sd/stablediffusion'):\n",
    "    !tar -C /content/gdrive/MyDrive --zstd -xf sd_mrep.tar.zst\n",
    "!tar -C / --zstd -xf gcolabdeps.tar.zst\n",
    "!rm *.deb | rm *.zst | rm *.txt\n",
    "if not os.path.exists('/content/gdrive/MyDrive/sd/libtcmalloc/libtcmalloc_minimal.so.4'):\n",
    "    %env CXXFLAGS=-std=c++14\n",
    "    !wget -q https://github.com/gperftools/gperftools/releases/download/gperftools-2.5/gperftools-2.5.tar.gz && tar zxf gperftools-2.5.tar.gz && mv gperftools-2.5 gperftools\n",
    "    !wget -q https://github.com/TheLastBen/fast-stable-diffusion/raw/main/AUTOMATIC1111_files/Patch\n",
    "    %cd /content/gperftools\n",
    "    !patch -p1 < /content/Patch\n",
    "    !./configure --enable-minimal --enable-libunwind --enable-frame-pointers --enable-dynamic-sized-delete-support --enable-sized-delete --enable-emergency-malloc; make -j4\n",
    "    !mkdir -p /content/gdrive/MyDrive/sd/libtcmalloc && cp .libs/libtcmalloc*.so* /content/gdrive/MyDrive/sd/libtcmalloc\n",
    "    %env LD_PRELOAD=/content/gdrive/MyDrive/sd/libtcmalloc/libtcmalloc_minimal.so.4\n",
    "    %cd /content\n",
    "    !rm *.tar.gz Patch && rm -r /content/gperftools\n",
    "else:\n",
    "    %env LD_PRELOAD=/content/gdrive/MyDrive/sd/libtcmalloc/libtcmalloc_minimal.so.4\n",
    "\n",
    "!pip install controlnet_aux -qq --no-deps\n",
    "os.environ['TF_CPP_MIN_LOG_LEVEL'] = '3'\n",
    "os.environ['PYTHONWARNINGS'] = 'ignore'\n",
    "!sed -i 's@text = _formatwarnmsg(msg)@text =\\\"\\\"@g' /usr/lib/python3.10/warnings.py"
   ]
  },
  {
   "metadata": {},
   "cell_type": "code",
   "outputs": [],
   "execution_count": null,
   "source": "!python /content/gdrive/MyDrive/sd/web/webui.py --share --api --disable-safe-unpickle --enable-insecure-extension-access --no-download-sd-model --no-half-vae --xformers --disable-console-progressbars --skip-version-check"
  }
 ],
 "metadata": {
  "accelerator": "GPU",
  "colab": {
   "provenance": []
  },
  "gpuClass": "standard",
  "kernelspec": {
   "display_name": "Python 3",
   "name": "python3"
  },
  "language_info": {
   "name": "python"
  }
 },
 "nbformat": 4,
 "nbformat_minor": 0
}
